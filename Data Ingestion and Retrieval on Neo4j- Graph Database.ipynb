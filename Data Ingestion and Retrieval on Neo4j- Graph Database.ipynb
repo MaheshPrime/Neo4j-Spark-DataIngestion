{
 "cells": [
  {
   "cell_type": "code",
   "execution_count": 0,
   "metadata": {
    "application/vnd.databricks.v1+cell": {
     "cellMetadata": {
      "byteLimit": 2048000,
      "rowLimit": 10000
     },
     "inputWidgets": {},
     "nuid": "03ae2ecd-0a4e-4be9-a33a-5b50e3153f33",
     "showTitle": false,
     "title": ""
    }
   },
   "outputs": [
    {
     "output_type": "stream",
     "name": "stdout",
     "output_type": "stream",
     "text": [
      "+---+-----+---+--------+------+------------+\n| id| name|age|start_id|end_id|relationship|\n+---+-----+---+--------+------+------------+\n|  1|Alice| 30|       1|     2|      FRIEND|\n|  2|  Bob| 25|       1|     3|      FRIEND|\n|  3|Carol| 35|       2|     4|      FRIEND|\n|  4| Dave| 40|       3|     5|      FRIEND|\n|  5|  Eve| 28|       4|     6|      FRIEND|\n|  6|Frank| 33|       5|     7|      FRIEND|\n|  7|Grace| 38|       6|     7|      FRIEND|\n+---+-----+---+--------+------+------------+\n\n"
     ]
    }
   ],
   "source": [
    "# Use Spark SQL to run a SQL query that selects all columns from the 'friends_data_csv' table in the 'default' database\n",
    "df = spark.sql(\"select * from default.friends_data_csv\")\n",
    "\n",
    "# Display the first few rows of the DataFrame to verify that the data has been loaded correctly\n",
    "df.show()\n"
   ]
  },
  {
   "cell_type": "markdown",
   "metadata": {
    "application/vnd.databricks.v1+cell": {
     "cellMetadata": {},
     "inputWidgets": {},
     "nuid": "64240d7b-3eea-4da7-a94b-6f41108f8514",
     "showTitle": false,
     "title": ""
    }
   },
   "source": [
    "Create Nodes for our graph:"
   ]
  },
  {
   "cell_type": "code",
   "execution_count": 0,
   "metadata": {
    "application/vnd.databricks.v1+cell": {
     "cellMetadata": {
      "byteLimit": 2048000,
      "rowLimit": 10000
     },
     "inputWidgets": {},
     "nuid": "2f97d9b8-9770-4fe3-8ebf-3b3a00697a5d",
     "showTitle": false,
     "title": ""
    }
   },
   "outputs": [],
   "source": [
    "# Define a Cypher query to merge or update a node in Neo4j database with person information\n",
    "Person_Query = \"\"\"\n",
    "MERGE (person:Person {id: event.id})  # Merge or create a node labeled 'Person' with id matching event.id\n",
    "SET person.name = event.name,         # Set properties of the 'person' node: name, age, start_id, and end_id\n",
    "    person.age = event.age,\n",
    "    person.start_id = event.start_id,\n",
    "    person.end_id = event.end_id\n",
    "\"\"\"\n"
   ]
  },
  {
   "cell_type": "code",
   "execution_count": 0,
   "metadata": {
    "application/vnd.databricks.v1+cell": {
     "cellMetadata": {
      "byteLimit": 2048000,
      "rowLimit": 10000
     },
     "inputWidgets": {},
     "nuid": "94d8b7a0-01a5-4895-9c3e-889bd85a1c02",
     "showTitle": false,
     "title": ""
    }
   },
   "outputs": [
    {
     "output_type": "stream",
     "name": "stdout",
     "output_type": "stream",
     "text": [
      "\nMERGE (person:Person {id: event.id})  # Merge or create a node labeled 'Person' with id matching event.id\nSET person.name = event.name,         # Set properties of the 'person' node: name, age, start_id, and end_id\n    person.age = event.age,\n    person.start_id = event.start_id,\n    person.end_id = event.end_id\n\n"
     ]
    }
   ],
   "source": [
    "print(Person_Query)"
   ]
  },
  {
   "cell_type": "code",
   "execution_count": 0,
   "metadata": {
    "application/vnd.databricks.v1+cell": {
     "cellMetadata": {
      "byteLimit": 2048000,
      "rowLimit": 10000
     },
     "inputWidgets": {},
     "nuid": "d8f43457-e863-44c9-8958-c43d9dab8d64",
     "showTitle": false,
     "title": ""
    }
   },
   "outputs": [],
   "source": [
    "# Write DataFrame 'df' to Neo4j using the Neo4j Spark Connector\n",
    "df.write.format(\"org.neo4j.spark.DataSource\")\\\n",
    "\n",
    "    # Neo4j Bolt URL\n",
    "    .option(\"url\", \"bolt://34.237.142.211:7687\")\\\n",
    "\n",
    "    # Authentication type and credentials\n",
    "    .option(\"authentication.type\", \"basic\")\\\n",
    "    .option(\"authentication.basic.username\", \"neo4j\")\\\n",
    "    .option(\"authentication.basic.password\", \"pits-diameters-lace\")\\\n",
    "\n",
    "    # Neo4j database name\n",
    "    .option(\"database\", \"friends-db\")\\\n",
    "\n",
    "    # Cypher query to execute (Person_Query defined earlier)\n",
    "    .option(\"query\", Person_Query)\\\n",
    "\n",
    "    # Mode: Overwrite existing data in Neo4j\n",
    "    .mode(\"Overwrite\")\\\n",
    "\n",
    "    # Save the DataFrame to Neo4j\n",
    "    .save()\n"
   ]
  },
  {
   "cell_type": "markdown",
   "metadata": {
    "application/vnd.databricks.v1+cell": {
     "cellMetadata": {},
     "inputWidgets": {},
     "nuid": "b4166512-9cd5-40a1-884f-dc74fbc06a78",
     "showTitle": false,
     "title": ""
    }
   },
   "source": [
    "Create Relationship between Person nodes"
   ]
  },
  {
   "cell_type": "code",
   "execution_count": 0,
   "metadata": {
    "application/vnd.databricks.v1+cell": {
     "cellMetadata": {
      "byteLimit": 2048000,
      "rowLimit": 10000
     },
     "inputWidgets": {},
     "nuid": "656d9233-372c-48e9-be7d-550f3d96e191",
     "showTitle": false,
     "title": ""
    }
   },
   "outputs": [],
   "source": [
    "\n",
    "Person_Relationship=\"\"\"\n",
    "MATCH (a:Person {id: event.start_id})\n",
    "MATCH (b:Person {id: event.end_id})\n",
    "CREATE (a)-[:FRIEND]->(b)\"\"\""
   ]
  },
  {
   "cell_type": "code",
   "execution_count": 0,
   "metadata": {
    "application/vnd.databricks.v1+cell": {
     "cellMetadata": {
      "byteLimit": 2048000,
      "rowLimit": 10000
     },
     "inputWidgets": {},
     "nuid": "6224a3ec-2084-49c3-b098-10867b92c97f",
     "showTitle": false,
     "title": ""
    }
   },
   "outputs": [
    {
     "output_type": "stream",
     "name": "stdout",
     "output_type": "stream",
     "text": [
      "\nMATCH (a:Person {id: event.start_id})\nMATCH (b:Person {id: event.end_id})\nCREATE (a)-[:FRIEND]->(b)\n"
     ]
    }
   ],
   "source": [
    "print(Person_Relationship)"
   ]
  },
  {
   "cell_type": "code",
   "execution_count": 0,
   "metadata": {
    "application/vnd.databricks.v1+cell": {
     "cellMetadata": {
      "byteLimit": 2048000,
      "rowLimit": 10000
     },
     "inputWidgets": {},
     "nuid": "36ef7cd7-766d-4599-a5ea-015a93580a81",
     "showTitle": false,
     "title": ""
    }
   },
   "outputs": [],
   "source": [
    "# Write to Neo4j using the Neo4j Spark Connector\n",
    "df.write.format(\"org.neo4j.spark.DataSource\")\\\n",
    "\n",
    "    # Neo4j Bolt URL\n",
    "    .option(\"url\", \"bolt://34.237.142.211:7687\")\\\n",
    "\n",
    "    # Authentication type and credentials\n",
    "    .option(\"authentication.type\", \"basic\")\\\n",
    "    .option(\"authentication.basic.username\", \"neo4j\")\\\n",
    "    .option(\"authentication.basic.password\", \"pits-diameters-lace\")\\\n",
    "\n",
    "    # Neo4j database name\n",
    "    .option(\"database\", \"friends-db\")\\\n",
    "\n",
    "    # Cypher query to execute (Person_Relationship defined earlier)\n",
    "    .option(\"query\", Person_Relationship)\\\n",
    "\n",
    "    # Mode: Overwrite existing data in Neo4j\n",
    "    .mode(\"Overwrite\")\\\n",
    "\n",
    "    # Save the DataFrame to Neo4j\n",
    "    .save()\n"
   ]
  },
  {
   "cell_type": "markdown",
   "metadata": {
    "application/vnd.databricks.v1+cell": {
     "cellMetadata": {},
     "inputWidgets": {},
     "nuid": "4d7f3369-d917-4cb6-8596-f0f2f5015379",
     "showTitle": false,
     "title": ""
    }
   },
   "source": [
    "Read Data from Neo4j Database"
   ]
  },
  {
   "cell_type": "code",
   "execution_count": 0,
   "metadata": {
    "application/vnd.databricks.v1+cell": {
     "cellMetadata": {
      "byteLimit": 2048000,
      "rowLimit": 10000
     },
     "inputWidgets": {},
     "nuid": "6cd3a7ae-25f9-486c-9ef2-c55970703cc0",
     "showTitle": false,
     "title": ""
    }
   },
   "outputs": [],
   "source": [
    "# Define a Cypher query to read data from Neo4j\n",
    "read_query = \"\"\"\n",
    "MATCH (p1:Person)-[r:FRIEND]->(p2:Person)  # Match nodes labeled 'Person' connected by 'FRIEND' relationship\n",
    "RETURN p1, p2                              # Return nodes p1 and p2\n",
    "\"\"\"\n"
   ]
  },
  {
   "cell_type": "code",
   "execution_count": 0,
   "metadata": {
    "application/vnd.databricks.v1+cell": {
     "cellMetadata": {
      "byteLimit": 2048000,
      "rowLimit": 10000
     },
     "inputWidgets": {},
     "nuid": "fe5aa9a6-4d2b-417c-96c0-bba9c621fca0",
     "showTitle": false,
     "title": ""
    }
   },
   "outputs": [
    {
     "output_type": "stream",
     "name": "stdout",
     "output_type": "stream",
     "text": [
      "\nMATCH (p1:Person)-[r:FRIEND]->(p2:Person) RETURN p1,p2\n\n"
     ]
    }
   ],
   "source": [
    "# Print the Cypher query string to verify or debug\n",
    "print(read_query)"
   ]
  },
  {
   "cell_type": "code",
   "execution_count": 0,
   "metadata": {
    "application/vnd.databricks.v1+cell": {
     "cellMetadata": {
      "byteLimit": 2048000,
      "rowLimit": 10000
     },
     "inputWidgets": {},
     "nuid": "553d5cd9-a3aa-4ff4-8e7a-eae56e42d93d",
     "showTitle": false,
     "title": ""
    }
   },
   "outputs": [
    {
     "output_type": "stream",
     "name": "stdout",
     "output_type": "stream",
     "text": [
      "+---------------------------------+---------------------------------+\n|p1                               |p2                               |\n+---------------------------------+---------------------------------+\n|{4, [Person], Frank, 33, 6, 5, 7}|{0, [Person], Grace, 38, 7, 6, 7}|\n|{1, [Person], Eve, 28, 5, 4, 6}  |{0, [Person], Grace, 38, 7, 6, 7}|\n|{2, [Person], Carol, 35, 3, 2, 4}|{1, [Person], Eve, 28, 5, 4, 6}  |\n|{3, [Person], Alice, 30, 1, 1, 2}|{2, [Person], Carol, 35, 3, 2, 4}|\n|{5, [Person], Dave, 40, 4, 3, 5} |{4, [Person], Frank, 33, 6, 5, 7}|\n|{6, [Person], Bob, 25, 2, 1, 3}  |{5, [Person], Dave, 40, 4, 3, 5} |\n|{3, [Person], Alice, 30, 1, 1, 2}|{6, [Person], Bob, 25, 2, 1, 3}  |\n+---------------------------------+---------------------------------+\n\n"
     ]
    }
   ],
   "source": [
    "# Read data from Neo4j using the Neo4j Spark Connector\n",
    "read_df = spark.read.format(\"org.neo4j.spark.DataSource\")\\\n",
    "\n",
    "    # Neo4j Bolt URL\n",
    "    .option(\"url\", \"bolt://34.237.142.211:7687\")\\\n",
    "\n",
    "    # Authentication type and credentials\n",
    "    .option(\"authentication.type\", \"basic\")\\\n",
    "    .option(\"authentication.basic.username\", \"neo4j\")\\\n",
    "    .option(\"authentication.basic.password\", \"pits-diameters-lace\")\\\n",
    "\n",
    "    # Neo4j database name\n",
    "    .option(\"database\", \"friends-db\")\\\n",
    "\n",
    "    # Cypher query to execute (read_query defined earlier)\n",
    "    .option(\"query\", read_query)\\\n",
    "\n",
    "    # Load data into a DataFrame\n",
    "    .load()\n"
   ]
  }
 ],
 "metadata": {
  "application/vnd.databricks.v1+notebook": {
   "dashboards": [],
   "environmentMetadata": null,
   "language": "python",
   "notebookMetadata": {
    "pythonIndentUnit": 4
   },
   "notebookName": "Data Ingestion and Retrieval on Neo4j- Graph Database",
   "widgets": {}
  }
 },
 "nbformat": 4,
 "nbformat_minor": 0
}
